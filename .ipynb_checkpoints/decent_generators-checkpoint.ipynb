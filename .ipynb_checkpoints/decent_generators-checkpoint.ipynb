{
 "cells": [
  {
   "cell_type": "code",
   "execution_count": null,
   "id": "responsible-royalty",
   "metadata": {},
   "outputs": [],
   "source": [
    "7+8"
   ]
  },
  {
   "cell_type": "code",
   "execution_count": 1,
   "id": "smoking-tribune",
   "metadata": {},
   "outputs": [
    {
     "name": "stderr",
     "output_type": "stream",
     "text": [
      "/usr/lib/python3/dist-packages/requests/__init__.py:89: RequestsDependencyWarning: urllib3 (1.26.7) or chardet (3.0.4) doesn't match a supported version!\n",
      "  warnings.warn(\"urllib3 ({}) or chardet ({}) doesn't match a supported \"\n"
     ]
    }
   ],
   "source": [
    "from my_utils import helpers"
   ]
  },
  {
   "cell_type": "code",
   "execution_count": 2,
   "id": "cathedral-language",
   "metadata": {},
   "outputs": [
    {
     "ename": "AttributeError",
     "evalue": "module 'my_utils.helpers' has no attribute 'majid'",
     "output_type": "error",
     "traceback": [
      "\u001b[0;31m---------------------------------------------------------------------------\u001b[0m",
      "\u001b[0;31mAttributeError\u001b[0m                            Traceback (most recent call last)",
      "\u001b[0;32m<ipython-input-2-b21a1f68a918>\u001b[0m in \u001b[0;36m<module>\u001b[0;34m\u001b[0m\n\u001b[0;32m----> 1\u001b[0;31m \u001b[0mhelpers\u001b[0m\u001b[0;34m.\u001b[0m\u001b[0mmajid\u001b[0m\u001b[0;34m\u001b[0m\u001b[0;34m\u001b[0m\u001b[0m\n\u001b[0m",
      "\u001b[0;31mAttributeError\u001b[0m: module 'my_utils.helpers' has no attribute 'majid'"
     ]
    }
   ],
   "source": [
    "helpers.majid"
   ]
  },
  {
   "cell_type": "code",
   "execution_count": null,
   "id": "complicated-account",
   "metadata": {},
   "outputs": [],
   "source": [
    "my_local = \"/home/majid/dev/scraper_seshat/clemens/majid/\"\n",
    "my_base = 'http://seshatdatabank.info/browser/' \n",
    "my_list = ['ItLatIA', 'ItRomRg', 'ItRomER']\n",
    "# helpers.list_of_items_to_html(my_list, my_base, my_local, my_suffix = \".txt\")\n",
    "helpers.json_of_refs_in_seshatdatabank(my_list, my_local)"
   ]
  },
  {
   "cell_type": "code",
   "execution_count": 3,
   "id": "unavailable-serbia",
   "metadata": {},
   "outputs": [
    {
     "ename": "IndexError",
     "evalue": "list index out of range",
     "output_type": "error",
     "traceback": [
      "\u001b[0;31m---------------------------------------------------------------------------\u001b[0m",
      "\u001b[0;31mIndexError\u001b[0m                                Traceback (most recent call last)",
      "\u001b[0;32m<ipython-input-3-9017e8bfb2fe>\u001b[0m in \u001b[0;36m<module>\u001b[0;34m\u001b[0m\n\u001b[1;32m      3\u001b[0m \u001b[0;31m#my_list = ['ItLatIA', 'ItRomRg', 'ItRomER']\u001b[0m\u001b[0;34m\u001b[0m\u001b[0;34m\u001b[0m\u001b[0;34m\u001b[0m\u001b[0m\n\u001b[1;32m      4\u001b[0m \u001b[0;31m# helpers.list_of_items_to_html(my_list, my_base, my_local, my_suffix = \".txt\")\u001b[0m\u001b[0;34m\u001b[0m\u001b[0;34m\u001b[0m\u001b[0;34m\u001b[0m\u001b[0m\n\u001b[0;32m----> 5\u001b[0;31m \u001b[0mhelpers\u001b[0m\u001b[0;34m.\u001b[0m\u001b[0mjson_of_themes\u001b[0m\u001b[0;34m(\u001b[0m\u001b[0mmy_local\u001b[0m\u001b[0;34m)\u001b[0m\u001b[0;34m\u001b[0m\u001b[0;34m\u001b[0m\u001b[0m\n\u001b[0m",
      "\u001b[0;32m~/dev/scraper_seshat/my_utils/helpers.py\u001b[0m in \u001b[0;36mjson_of_themes\u001b[0;34m(my_local_address, my_range, my_online_base_address, my_json_file)\u001b[0m\n\u001b[1;32m    133\u001b[0m \u001b[0;34m\u001b[0m\u001b[0m\n\u001b[1;32m    134\u001b[0m         \u001b[0;31m# get the full html content of the soup (in string):\u001b[0m\u001b[0;34m\u001b[0m\u001b[0;34m\u001b[0m\u001b[0;34m\u001b[0m\u001b[0m\n\u001b[0;32m--> 135\u001b[0;31m         \u001b[0mprint\u001b[0m\u001b[0;34m(\u001b[0m\u001b[0mdom\u001b[0m\u001b[0;34m.\u001b[0m\u001b[0mxpath\u001b[0m\u001b[0;34m(\u001b[0m\u001b[0;34m'/html/body/app-root/lib-dynamic-menu/mat-sidenav-container/mat-sidenav-content/lib-main/div/div/div/form/lib-product-list/div[2]/div[1]/mat-card/mat-card-content/p[1]/span[2]'\u001b[0m\u001b[0;34m)\u001b[0m\u001b[0;34m[\u001b[0m\u001b[0;36m0\u001b[0m\u001b[0;34m]\u001b[0m\u001b[0;34m.\u001b[0m\u001b[0mtext\u001b[0m\u001b[0;34m)\u001b[0m\u001b[0;34m\u001b[0m\u001b[0;34m\u001b[0m\u001b[0m\n\u001b[0m\u001b[1;32m    136\u001b[0m \u001b[0;34m\u001b[0m\u001b[0m\n\u001b[1;32m    137\u001b[0m         \u001b[0;31m#themes_span = soup.select('body > app-root > lib-dynamic-menu > mat-sidenav-container > mat-sidenav-content > lib-main > div > div > div > form > lib-product-list > div.product-list > div:nth-child(1) > mat-card > mat-card-content > p.col.col-1 > span:nth-child(2)')\u001b[0m\u001b[0;34m\u001b[0m\u001b[0;34m\u001b[0m\u001b[0;34m\u001b[0m\u001b[0m\n",
      "\u001b[0;31mIndexError\u001b[0m: list index out of range"
     ]
    }
   ],
   "source": [
    "my_local = \"/home/majid/dev/scraper_seshat/Peter/\"\n",
    "#my_base = 'http://seshatdatabank.info/browser/' \n",
    "#my_list = ['ItLatIA', 'ItRomRg', 'ItRomER']\n",
    "# helpers.list_of_items_to_html(my_list, my_base, my_local, my_suffix = \".txt\")\n",
    "helpers.json_of_themes(my_local)"
   ]
  },
  {
   "cell_type": "code",
   "execution_count": null,
   "id": "colored-india",
   "metadata": {},
   "outputs": [],
   "source": []
  },
  {
   "cell_type": "code",
   "execution_count": null,
   "id": "honey-porter",
   "metadata": {},
   "outputs": [],
   "source": []
  },
  {
   "cell_type": "code",
   "execution_count": null,
   "id": "concerned-congress",
   "metadata": {},
   "outputs": [],
   "source": []
  },
  {
   "cell_type": "code",
   "execution_count": 5,
   "id": "classified-romania",
   "metadata": {},
   "outputs": [
    {
     "name": "stderr",
     "output_type": "stream",
     "text": [
      "<ipython-input-5-f79795f310af>:13: DeprecationWarning: firefox_profile has been deprecated, please use an Options object\n",
      "  profile = webdriver.FirefoxProfile(\n",
      "<ipython-input-5-f79795f310af>:21: DeprecationWarning: capabilities and desired_capabilities have been deprecated, please pass in a Service object\n",
      "  driver = webdriver.Firefox(firefox_profile=profile,\n",
      "<ipython-input-5-f79795f310af>:21: DeprecationWarning: firefox_profile has been deprecated, please pass in an Options object\n",
      "  driver = webdriver.Firefox(firefox_profile=profile,\n",
      "<ipython-input-5-f79795f310af>:26: DeprecationWarning: find_element_by_* commands are deprecated. Please use find_element() instead\n",
      "  good_themes_1 = driver.find_element_by_css_selector('body > app-root > lib-dynamic-menu > mat-sidenav-container > mat-sidenav-content > lib-main > div > div > div > form > lib-product-list > div.product-list > div:nth-child(1) > mat-card > mat-card-content > p.col.col-1 > span:nth-child(2)')\n"
     ]
    },
    {
     "name": "stdout",
     "output_type": "stream",
     "text": [
      "<selenium.webdriver.remote.webelement.WebElement (session=\"b7a3fad4-e52e-4a5c-b2fe-bd623c592b72\", element=\"ba961f02-e49a-4709-aff3-9650aba9b910\")>\n"
     ]
    }
   ],
   "source": [
    "from selenium import webdriver\n",
    "import geckodriver_autoinstaller\n",
    "\n",
    "from selenium.webdriver.common.keys import Keys\n",
    "from selenium.webdriver.common.desired_capabilities import DesiredCapabilities\n",
    "\n",
    "import time\n",
    "\n",
    "geckodriver_autoinstaller.install()\n",
    "#PATH = \"/home/majid/dev/selenium/\"\n",
    "\n",
    "# /home/majid/.mozilla/firefox/qtgamvz4.default-release\n",
    "profile = webdriver.FirefoxProfile(\n",
    "    '/home/majid/.mozilla/firefox/qtgamvz4.default-release')\n",
    "\n",
    "profile.set_preference(\"dom.webdriver.enabled\", False)\n",
    "profile.set_preference('useAutomationExtension', False)\n",
    "profile.update_preferences()\n",
    "desired = DesiredCapabilities.FIREFOX\n",
    "\n",
    "driver = webdriver.Firefox(firefox_profile=profile,\n",
    "                           desired_capabilities=desired)\n",
    "driver.get(\"https://www.statistik.at/amdc-data/#/product\")\n",
    "driver.implicitly_wait(10)\n",
    "\n",
    "good_themes_1 = driver.find_element_by_css_selector('body > app-root > lib-dynamic-menu > mat-sidenav-container > mat-sidenav-content > lib-main > div > div > div > form > lib-product-list > div.product-list > div:nth-child(1) > mat-card > mat-card-content > p.col.col-1 > span:nth-child(2)')\n",
    "\n",
    "print(good_themes_1.get_attribute('innerHTML'))"
   ]
  },
  {
   "cell_type": "code",
   "execution_count": null,
   "id": "reflected-macedonia",
   "metadata": {},
   "outputs": [],
   "source": []
  }
 ],
 "metadata": {
  "kernelspec": {
   "display_name": "Python 3",
   "language": "python",
   "name": "python3"
  },
  "language_info": {
   "codemirror_mode": {
    "name": "ipython",
    "version": 3
   },
   "file_extension": ".py",
   "mimetype": "text/x-python",
   "name": "python",
   "nbconvert_exporter": "python",
   "pygments_lexer": "ipython3",
   "version": "3.8.10"
  }
 },
 "nbformat": 4,
 "nbformat_minor": 5
}
